{
  "nbformat": 4,
  "nbformat_minor": 0,
  "metadata": {
    "colab": {
      "provenance": [],
      "authorship_tag": "ABX9TyNeggMY/MEPMOmwe3LBVd2T",
      "include_colab_link": true
    },
    "kernelspec": {
      "name": "python3",
      "display_name": "Python 3"
    },
    "language_info": {
      "name": "python"
    }
  },
  "cells": [
    {
      "cell_type": "markdown",
      "metadata": {
        "id": "view-in-github",
        "colab_type": "text"
      },
      "source": [
        "<a href=\"https://colab.research.google.com/github/PatrickVilela/Reproducao_Musica/blob/main/Reproducao_musica.ipynb\" target=\"_parent\"><img src=\"https://colab.research.google.com/assets/colab-badge.svg\" alt=\"Open In Colab\"/></a>"
      ]
    },
    {
      "cell_type": "markdown",
      "source": [
        "## Aplicativo de Lista de Reprodução de Música"
      ],
      "metadata": {
        "id": "1p0CkfKOe4v8"
      }
    },
    {
      "cell_type": "code",
      "source": [
        "class User:\n",
        "    def __init__(self, user_id, username, password):\n",
        "        self.user_id = user_id\n",
        "        self.username = username\n",
        "        self.password = password\n",
        "        self.playlists = []\n",
        "\n",
        "    def create_playlist(self, title, description):\n",
        "        playlist = Playlist(title, description)\n",
        "        self.playlists.append(playlist)\n",
        "        return playlist\n",
        "\n",
        "    def __str__(self):\n",
        "        return f\"User ID: {self.user_id}, Username: {self.username}\""
      ],
      "metadata": {
        "id": "bP3MB4yxe0Wr"
      },
      "execution_count": 2,
      "outputs": []
    },
    {
      "cell_type": "code",
      "source": [
        "class Playlist:\n",
        "    def __init__(self, playlist_id, title, description):\n",
        "        self.playlist_id = playlist_id\n",
        "        self.title = title\n",
        "        self.description = description\n",
        "        self.creation_date = datetime.datetime.now()\n",
        "        self.songs = []\n",
        "\n",
        "    def add_song(self, song):\n",
        "        self.songs.append(song)\n",
        "\n",
        "    def __str__(self):\n",
        "        return f\"Playlist ID: {self.playlist_id}, Title: {self.title}\"\n"
      ],
      "metadata": {
        "id": "0P7MLL7vfHh0"
      },
      "execution_count": 3,
      "outputs": []
    },
    {
      "cell_type": "code",
      "source": [
        "class Song:\n",
        "    def __init__(self, song_id, title, artist, album, duration, file_path):\n",
        "        self.song_id = song_id\n",
        "        self.title = title\n",
        "        self.artist = artist\n",
        "        self.album = album\n",
        "        self.duration = duration\n",
        "        self.file_path = file_path\n",
        "\n",
        "    def __str__(self):\n",
        "        return f\"Song ID: {self.song_id}, Title: {self.title}, Artist: {self.artist}\"\n"
      ],
      "metadata": {
        "id": "KUl6dtdnfLFu"
      },
      "execution_count": 4,
      "outputs": []
    },
    {
      "cell_type": "code",
      "source": [
        "import datetime\n",
        "\n",
        "class User:\n",
        "    def __init__(self, user_id, username, password):\n",
        "        self.user_id = user_id\n",
        "        self.username = username\n",
        "        self.password = password\n",
        "        self.playlists = []\n",
        "\n",
        "    def create_playlist(self, title, description):\n",
        "        playlist_id = len(self.playlists) + 1  # Gera um ID único para a playlist\n",
        "        playlist = Playlist(playlist_id, title, description)\n",
        "        self.playlists.append(playlist)\n",
        "        return playlist\n",
        "\n",
        "    def __str__(self):\n",
        "        return f\"User ID: {self.user_id}, Username: {self.username}\"\n"
      ],
      "metadata": {
        "id": "gx8y3c_UfOja"
      },
      "execution_count": 6,
      "outputs": []
    },
    {
      "cell_type": "code",
      "source": [
        "# Criando alguns usuários\n",
        "user1 = User(1, \"user1\", \"password1\")\n",
        "user2 = User(2, \"user2\", \"password2\")\n",
        "\n",
        "# Criando algumas músicas\n",
        "song1 = Song(1, \"Song 1\", \"Artist 1\", \"Album 1\", \"3:30\", \"/path/to/song1.mp3\")\n",
        "song2 = Song(2, \"Song 2\", \"Artist 2\", \"Album 2\", \"4:15\", \"/path/to/song2.mp3\")\n",
        "song3 = Song(3, \"Song 3\", \"Artist 3\", \"Album 3\", \"5:00\", \"/path/to/song3.mp3\")\n",
        "\n",
        "# Criando algumas listas de reprodução\n",
        "playlist1 = user1.create_playlist(\"Playlist 1\", \"Description 1\")\n",
        "playlist2 = user1.create_playlist(\"Playlist 2\", \"Description 2\")\n",
        "playlist3 = user2.create_playlist(\"Playlist 3\", \"Description 3\")\n"
      ],
      "metadata": {
        "id": "6TG91mJEfdIl"
      },
      "execution_count": 7,
      "outputs": []
    },
    {
      "cell_type": "code",
      "source": [
        "# Adicionando músicas às listas de reprodução\n",
        "playlist1.add_song(song1)\n",
        "playlist1.add_song(song2)\n",
        "playlist2.add_song(song3)\n",
        "playlist3.add_song(song1)\n"
      ],
      "metadata": {
        "id": "ZdoBBWIVf4Hi"
      },
      "execution_count": 8,
      "outputs": []
    },
    {
      "cell_type": "code",
      "source": [
        "class Playlist:\n",
        "    def __init__(self, playlist_id, title, description):\n",
        "        self.playlist_id = playlist_id\n",
        "        self.title = title\n",
        "        self.description = description\n",
        "        self.creation_date = datetime.datetime.now()\n",
        "        self.songs = []\n",
        "\n",
        "    def add_song(self, song):\n",
        "        self.songs.append(song)\n",
        "\n",
        "    def list_songs(self):\n",
        "        for song in self.songs:\n",
        "            print(song.title, \"-\", song.artist)\n",
        "\n",
        "# Exemplo de uso\n",
        "playlist1 = user1.create_playlist(\"Playlist 1\", \"Description 1\")\n",
        "playlist1.add_song(song1)\n",
        "playlist1.add_song(song2)\n",
        "playlist1.list_songs()\n"
      ],
      "metadata": {
        "colab": {
          "base_uri": "https://localhost:8080/"
        },
        "id": "LUv2iQ2Wf7Xg",
        "outputId": "ea491259-e18a-4566-e494-18044d4da197"
      },
      "execution_count": 9,
      "outputs": [
        {
          "output_type": "stream",
          "name": "stdout",
          "text": [
            "Song 1 - Artist 1\n",
            "Song 2 - Artist 2\n"
          ]
        }
      ]
    },
    {
      "cell_type": "code",
      "source": [],
      "metadata": {
        "id": "qWoDq6QTgFTE"
      },
      "execution_count": null,
      "outputs": []
    }
  ]
}